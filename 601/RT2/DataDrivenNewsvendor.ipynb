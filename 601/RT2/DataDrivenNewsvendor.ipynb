{
 "cells": [
  {
   "cell_type": "markdown",
   "id": "3d10b2fa",
   "metadata": {},
   "source": [
    "Code provides a basic framework for method implementation as well as giving examples on how to calculate benchmarks. In a true study, like the paper, the tests at the end would be ran thousands of times with new demand test sets generated each time. Then a and b would be regenerated for hundreds of simulations to create new instances which then run on hundreds of generated test sets."
   ]
  },
  {
   "cell_type": "code",
   "execution_count": 1,
   "id": "b0877a98",
   "metadata": {},
   "outputs": [
    {
     "name": "stdout",
     "output_type": "stream",
     "text": [
      "Academic license - for non-commercial use only - expires 2022-10-10\n",
      "Using license file C:\\Users\\loweryb\\gurobi.lic\n"
     ]
    }
   ],
   "source": [
    "import numpy as np\n",
    "from scipy import stats\n",
    "import matplotlib.pyplot as plt\n",
    "from gurobipy import *\n",
    "from sys import stdout\n",
    "import pickle\n",
    "import random\n",
    "test = Model() # Stop gurobi licence repeating"
   ]
  },
  {
   "cell_type": "markdown",
   "id": "793020a2",
   "metadata": {},
   "source": [
    "## Demand Generation"
   ]
  },
  {
   "cell_type": "code",
   "execution_count": 2,
   "id": "998e6a8d",
   "metadata": {},
   "outputs": [],
   "source": [
    "# Function to generate demand\n",
    "\n",
    "# a: factors on price\n",
    "# b: demand curve\n",
    "# CV: coefficiant of variation\n",
    "# p: number of data points\n",
    "# p_range: range to draw price from\n",
    "# seed: Random seed, default 45\n",
    "# thresh: proportion of negative values allowed, default 0.05 (5%)\n",
    "\n",
    "def generateDemand(a,b,CV,p,p_range,seed=42, thresh=0.05):\n",
    "    np.random.seed(seed)\n",
    "\n",
    "    \n",
    "    # Generate selling prices, rounded to 2dp.\n",
    "    SP = np.round(np.random.uniform(p_range[0],p_range[1],p),2)\n",
    "    \n",
    "    # calculate mean and Recover std.\n",
    "    mu=np.mean(a-b*SP)\n",
    "    \n",
    "    sigma=CV*mu\n",
    "    \n",
    "    # Add random demand.\n",
    "    eps=np.random.normal(0,sigma, p)\n",
    "    \n",
    "    # Generate demand \n",
    "    demand=a-b*SP+eps\n",
    "    \n",
    "    # (check too no more than 5% <0)\n",
    "    if ((demand<0).sum()>p*thresh):\n",
    "        print(\"Too many negatives > {price:.2f}%\".format(price = thresh*100))\n",
    "        print((demand<0).sum())\n",
    "        return 0,0\n",
    "    \n",
    "    # Replace negatives with 0\n",
    "    demand[demand<0]=0\n",
    "    \n",
    "    return SP, demand"
   ]
  },
  {
   "cell_type": "markdown",
   "id": "2d526749",
   "metadata": {},
   "source": [
    "# Methodology\n",
    "========================"
   ]
  },
  {
   "cell_type": "markdown",
   "id": "519f3fc0",
   "metadata": {},
   "source": [
    " ## Method of Moments"
   ]
  },
  {
   "cell_type": "code",
   "execution_count": 10,
   "id": "58e0a68f",
   "metadata": {},
   "outputs": [],
   "source": [
    "def MM(demand_obvs, CF):\n",
    "    # Assume normal means sample moments are just same as MLE in case of MM\n",
    "    mu_hat=np.mean(demand_obvs)\n",
    "    sigma_hat=np.std(demand_obvs)\n",
    "    \n",
    "    # Calculate optimal Quantity\n",
    "    Q_hat=stats.norm.ppf(CF,mu_hat,sigma_hat)\n",
    "    \n",
    "    return mu_hat, sigma_hat, Q_hat"
   ]
  },
  {
   "cell_type": "markdown",
   "id": "cdc6815d",
   "metadata": {},
   "source": [
    "## SAA"
   ]
  },
  {
   "cell_type": "code",
   "execution_count": 11,
   "id": "b873154c",
   "metadata": {},
   "outputs": [],
   "source": [
    "def SAA(demand_obvs, CF):\n",
    "    # ECDF is equivalent to sorting the demand observations then return the CF quantile\n",
    "    \n",
    "    demand_sorted=np.sort(demand_obvs)\n",
    "    \n",
    "    # Optimal order quantity is the CF quantile \n",
    "    Q_hat = np.quantile(demand_sorted, q=CF)\n",
    "    return Q_hat"
   ]
  },
  {
   "cell_type": "markdown",
   "id": "706708e9",
   "metadata": {},
   "source": [
    "## Scarf's Min-Max Rule"
   ]
  },
  {
   "cell_type": "code",
   "execution_count": 12,
   "id": "3c804a17",
   "metadata": {},
   "outputs": [],
   "source": [
    "def SR(demand_obvs, u, o):\n",
    "    \n",
    "    # Calculate sample moments\n",
    "    mu_hat = np.mean(demand_obvs)\n",
    "    sigma_hat=np.std(demand_obvs)\n",
    "    \n",
    "    Q_hat=mu_hat+sigma_hat/2*(np.sqrt(u/o)-np.sqrt(o/u))\n",
    "    \n",
    "    return Q_hat"
   ]
  },
  {
   "cell_type": "markdown",
   "id": "6af59977",
   "metadata": {},
   "source": [
    "## Feature Cost"
   ]
  },
  {
   "cell_type": "code",
   "execution_count": 13,
   "id": "25f2b89f",
   "metadata": {},
   "outputs": [],
   "source": [
    "def BM(p, d, u, o):\n",
    "    # Params: price, demand, underage, overage\n",
    "    # Assumes 1 feature, n points\n",
    "    n=len(p)\n",
    "    \n",
    "    m = Model()\n",
    "    m.setParam('OutputFlag', False)\n",
    "    \n",
    "    # Add decision variables \n",
    "    q=m.addVars(2, lb=-GRB.INFINITY)\n",
    "    v=m.addVars(n, lb=0)\n",
    "    s=m.addVars(n, lb=0)\n",
    "    \n",
    "    # Add objective function\n",
    "    obj=quicksum(o*v[i]+u*(d[i]-s[i]) for i in range(n))\n",
    "    m.setObjective(obj,GRB.MINIMIZE)\n",
    "    \n",
    "    # Add constraints\n",
    "    for i in range(n):\n",
    "        m.addConstr(q[0]+q[1]*p[i]-d[i]<= v[i])\n",
    "        m.addConstr(s[i] <=d[i])\n",
    "        m.addConstr(s[i] <= q[0]+q[1]*p[i])\n",
    "    \n",
    "    # optimise problem\n",
    "    m.optimize()\n",
    "    \n",
    "    # Return parameters (optimal order Q=q_0+q_1*p)\n",
    "    return q[0].x, q[1].x"
   ]
  },
  {
   "cell_type": "markdown",
   "id": "df826cc4",
   "metadata": {},
   "source": [
    "## Actual"
   ]
  },
  {
   "cell_type": "code",
   "execution_count": 14,
   "id": "78f3679b",
   "metadata": {},
   "outputs": [],
   "source": [
    "def true_val(a,  b, CV, CF):\n",
    "    # True: a-bp+F^-1(CF)*sigma\n",
    "    sigma=CV*(a-b*0.5) # CV*mu, mean price p is 0.5\n",
    "    coeff_a=a+sigma*stats.norm.ppf(CF,0,1)\n",
    "    coeff_b=b\n",
    "    return coeff_a, coeff_b"
   ]
  },
  {
   "cell_type": "markdown",
   "id": "30afc18e",
   "metadata": {},
   "source": [
    "# Example Usage\n",
    "=========================="
   ]
  },
  {
   "cell_type": "code",
   "execution_count": 19,
   "id": "45a0b246",
   "metadata": {},
   "outputs": [],
   "source": [
    "# Variables\n",
    "u=9\n",
    "o=1\n",
    "CF=u/(u+o) # Critical Fractile\n",
    "CV=0.3 # Coefficiant of Variation\n",
    "a=np.random.uniform(1000,2000,1)\n",
    "b=np.random.uniform(300,500,1)\n",
    "samples = 100000"
   ]
  },
  {
   "cell_type": "code",
   "execution_count": 53,
   "id": "ae1ad66f",
   "metadata": {},
   "outputs": [],
   "source": [
    "# Price Generation\n",
    "price, demand = generateDemand(a,b,CV,100000, [0,1], seed=42)\n",
    "\n",
    "# Split into test and training sets, train on 100 samples say\n",
    "demand_train=demand[:100]\n",
    "demand_test=demand[100:]\n",
    "price_train=price[:100]\n",
    "price_test=price[100:]"
   ]
  },
  {
   "cell_type": "code",
   "execution_count": 54,
   "id": "d4ce2063",
   "metadata": {},
   "outputs": [],
   "source": [
    "# Create decision rules\n",
    "\n",
    "# Method of Moments\n",
    "Q_MM=MM(demand_train, CF)\n",
    "\n",
    "# Sample Average approximation\n",
    "Q_SAA=SAA(demand_train, CF)\n",
    "\n",
    "# Scarf's Rule\n",
    "Q_SR=SR(demand_train, u,o)\n",
    "\n",
    "# Feature LP coefficiants\n",
    "coef_FLP=BM(price_train, demand_train, u,o)\n",
    "\n",
    "# Known coefficients\n",
    "coef_known=true_val(a, b, CV, CF)"
   ]
  },
  {
   "cell_type": "code",
   "execution_count": 55,
   "id": "c7b1e649",
   "metadata": {},
   "outputs": [
    {
     "data": {
      "image/png": "[encoded data removed]",
      "text/plain": [
       "<Figure size 432x288 with 1 Axes>"
      ]
     },
     "metadata": {
      "needs_background": "light"
     },
     "output_type": "display_data"
    }
   ],
   "source": [
    "# Plot decision lines\n",
    "\n",
    "# Plot training set\n",
    "plt.scatter(price_train, demand_train, s=15, label='Sample Observations', color='grey')\n",
    "\n",
    "points = np.linspace(0,1,100)\n",
    "\n",
    "# Plot actual\n",
    "plt.plot(points, coef_known[0]-coef_known[1]*points, color='darkgray', linestyle='--', label='Known')\n",
    "\n",
    "# Plot Feature method\n",
    "plt.plot(points, coef_FLP[0]+coef_FLP[1]*points, color='#E24A33',linestyle='-', label='Feature LP')\n",
    "\n",
    "# Plot Featureless methods\n",
    "plt.axhline(y=Q_MM[2], linestyle='-',color='#A60628', label='Method of Moments')\n",
    "plt.xlabel('Price')\n",
    "plt.ylabel('Demand')\n",
    "plt.axhline(y=Q_SAA, linestyle='-',color='#348ABD',  label='SAA')\n",
    "plt.axhline(y=Q_SR, linestyle='-',color='#7A68A6', label='Scarfs')\n",
    "plt.axis([0, 1, 1000, 1850])\n",
    "plt.legend()\n",
    "plt.show()"
   ]
  },
  {
   "cell_type": "markdown",
   "id": "88837a17",
   "metadata": {},
   "source": [
    "# Example Benchmark Test \n",
    "\n",
    "## Service Levels"
   ]
  },
  {
   "cell_type": "code",
   "execution_count": 56,
   "id": "38b3c347",
   "metadata": {},
   "outputs": [],
   "source": [
    "# Calculate Service levels on test set (single sim)\n",
    "\n",
    "# Method of Moments\n",
    "SL_MM=1-((demand_test>Q_MM[2]).sum())/100000\n",
    "\n",
    "# SAA\n",
    "SL_SAA=1-((demand_test>Q_SAA).sum())/100000\n",
    "\n",
    "# Scarf's\n",
    "SL_scarf=1-((demand_test>Q_SR).sum())/100000\n",
    "\n",
    "# Feature LP\n",
    "counter_SL_feature=0\n",
    "for price_point, demand_point in zip(price_test,demand_test):\n",
    "    feature_lp=coef_FLP[0]+coef_FLP[1]*price_point\n",
    "    if (demand_point-feature_lp>=0):\n",
    "        counter_SL_feature+=1\n",
    "SL_featureLP=1-counter_SL_feature/100000"
   ]
  },
  {
   "cell_type": "code",
   "execution_count": 57,
   "id": "803f8735",
   "metadata": {},
   "outputs": [
    {
     "data": {
      "text/plain": [
       "{'MM': 0.8970899999999999, 'SAA': 0.89009, 'SR': 0.90482, 'FLP': 0.87347}"
      ]
     },
     "execution_count": 57,
     "metadata": {},
     "output_type": "execute_result"
    }
   ],
   "source": [
    "{'MM': SL_MM, 'SAA': SL_SAA, 'SR': SL_scarf, 'FLP': SL_featureLP}"
   ]
  },
  {
   "cell_type": "markdown",
   "id": "067ffe17",
   "metadata": {},
   "source": [
    "## Average Inventory Levels"
   ]
  },
  {
   "cell_type": "code",
   "execution_count": 58,
   "id": "f7eb113e",
   "metadata": {},
   "outputs": [],
   "source": [
    "# Calculate Average inventory levels on test set (single sim)\n",
    "\n",
    "# Method of Moments\n",
    "AI_MM=np.mean([Q_MM[2]-i for i in demand_test])\n",
    "\n",
    "# SAA\n",
    "AI_SAA=np.mean([Q_SAA-i for i in demand_test])\n",
    "\n",
    "# Scarf's\n",
    "AI_scarf=np.mean([Q_SR-i for i in demand_test])\n",
    "\n",
    "# Feature LP\n",
    "AI_FLP_tots=[]\n",
    "AI_known_tots=[]\n",
    "for price_point, demand_point in zip(price_test,demand_test):\n",
    "    feature_lp=coef_FLP[0]+coef_FLP[1]*price_point\n",
    "    known=coef_known[0]-coef_known[1]*price_point\n",
    "    AI_FLP_tots.append(feature_lp-demand_point)\n",
    "    AI_known_tots.append(known-demand_point)\n",
    "AI_FLP=np.mean(AI_FLP_tots)\n",
    "AI_known=np.mean(AI_known_tots)"
   ]
  },
  {
   "cell_type": "code",
   "execution_count": 59,
   "id": "e861a56c",
   "metadata": {},
   "outputs": [
    {
     "data": {
      "text/plain": [
       "{'MM': 437.9349276945117,\n",
       " 'SAA': 425.25720192277777,\n",
       " 'SR': 454.54270394676786,\n",
       " 'FLP': 371.1950037732718,\n",
       " 'Known': 416.4306185257121}"
      ]
     },
     "execution_count": 59,
     "metadata": {},
     "output_type": "execute_result"
    }
   ],
   "source": [
    "{'MM': AI_MM, 'SAA': AI_SAA, 'SR': AI_scarf, 'FLP': AI_FLP, 'Known': AI_known}"
   ]
  }
 ],
 "metadata": {
  "kernelspec": {
   "display_name": "Python 3 (ipykernel)",
   "language": "python",
   "name": "python3"
  },
  "language_info": {
   "codemirror_mode": {
    "name": "ipython",
    "version": 3
   },
   "file_extension": ".py",
   "mimetype": "text/x-python",
   "name": "python",
   "nbconvert_exporter": "python",
   "pygments_lexer": "ipython3",
   "version": "3.9.7"
  }
 },
 "nbformat": 4,
 "nbformat_minor": 5
}
