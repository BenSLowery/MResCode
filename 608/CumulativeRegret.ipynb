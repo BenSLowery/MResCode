{
 "cells": [
  {
   "cell_type": "code",
   "execution_count": 105,
   "id": "1fd568e6",
   "metadata": {},
   "outputs": [],
   "source": [
    "import numpy as np\n",
    "from scipy.stats import beta as bt\n",
    "from scipy.stats import norm\n",
    "import matplotlib.pyplot as plt\n",
    "from numpy import genfromtxt\n",
    "plt.style.use('ggplot')\n",
    "np.random.seed(42)"
   ]
  },
  {
   "cell_type": "code",
   "execution_count": 80,
   "id": "be136a2b",
   "metadata": {},
   "outputs": [],
   "source": [
    "# epsilon-greedy\n",
    "def eps_greedy(t_len, k_len, arms, inits, eps=0.1):\n",
    "    culm_chosen = []\n",
    "    \n",
    "    alpha = [inits[0] for k in range(k_len)]\n",
    "    beta = [inits[1] for k in range(k_len)]\n",
    "\n",
    "    for t in range(t_len):\n",
    "        \n",
    "        # Calculate mean of bernoulli distribution\n",
    "        empirical_mean=[alpha[k]/(alpha[k]+beta[k]) for k in range(k_len)]\n",
    "        \n",
    "        if np.random.rand() > eps:\n",
    "            # exploit\n",
    "            choice = np.argmax(empirical_mean)\n",
    "        else:\n",
    "            # explore\n",
    "            choice = np.random.randint(0,k_len)\n",
    "        \n",
    "        # observe reward\n",
    "        r = np.random.random()<arms[choice]\n",
    "        \n",
    "        # update state\n",
    "        alpha[choice] += r\n",
    "        beta[choice]+= 1-r\n",
    "        \n",
    "        # Append choice (for regret metric)\n",
    "        culm_chosen.append(choice)\n",
    "        \n",
    "    return alpha,beta,culm_chosen"
   ]
  },
  {
   "cell_type": "code",
   "execution_count": 75,
   "id": "1d8c9be9",
   "metadata": {},
   "outputs": [],
   "source": [
    "# Thompson Sampling\n",
    "def Thompson(t_len, k_len, arms, priors):\n",
    "    culm_chosen = []\n",
    "    alpha = [priors[0] for k in range(k_len)]\n",
    "    beta = [priors[1] for k in range(k_len)]\n",
    "    for t in range(t_len):\n",
    "        samples = [np.random.beta(alpha[k],beta[k]) for k in range(k_len)] # Collect samples\n",
    "        best = np.argmax(samples) # Choose best\n",
    "        r = np.random.random()<arms[best] # observe r_t (reward and for some reason 'True' counts as the value 1)\n",
    "        # Update the state of the winning arm \n",
    "        alpha[best] += r\n",
    "        beta[best] += 1-r\n",
    "        # Append best\n",
    "        culm_chosen.append(best)\n",
    "    return alpha,beta,culm_chosen\n",
    "\n",
    "# Plot posterior arm choices\n",
    "def plot_res(a,b, t_len):\n",
    "    x=np.linspace(0,1,1000)\n",
    "    for  i in range(2):\n",
    "        y = bt(a[i], b[i])\n",
    "        plt.plot(x,y.pdf(x),  label=f'Posterior: Arm {i+1}, prob {arms[i]}')\n",
    "    plt.title(f'T={t_len} rounds')\n",
    "    plt.xlabel('Prob.')\n",
    "    plt.legend()\n",
    "    plt.show()"
   ]
  },
  {
   "cell_type": "code",
   "execution_count": 147,
   "id": "d5473aa7",
   "metadata": {},
   "outputs": [],
   "source": [
    "# UCB-Bayes\n",
    "def BayesUCB(t_len, k_len, arms, priors, a_quantile=0.05):\n",
    "    c=norm.ppf(1-a_quantile/2) # stds. as uppper confidence bound\n",
    "    alpha = [priors[0] for k in range(k_len)]\n",
    "    beta = [priors[1] for k in range(k_len)]\n",
    "    culm_chosen = []\n",
    "    for t in range(t_len):\n",
    "        arm_probs = [alpha[k]/(alpha[k]+beta[k])+(c*bt(alpha[k],beta[k]).std()) for k in range(k_len)] # Perform bayes UCB with beta prior\n",
    "        best = np.argmax(arm_probs) # Choose best\n",
    "        r = np.random.random()<arms[best] # observe r_t (reward and for some reason 'True' counts as the value 1)\n",
    "        # Update the state of the winning arm \n",
    "        alpha[best] += r\n",
    "        beta[best] += 1-r\n",
    "        # Append best\n",
    "        culm_chosen.append(best)\n",
    "    return alpha,beta,culm_chosen"
   ]
  },
  {
   "cell_type": "code",
   "execution_count": 97,
   "id": "956c7543",
   "metadata": {},
   "outputs": [],
   "source": [
    "# regret\n",
    "def get_regret(arms, culm_chosen, t_len):\n",
    "    # Keep empty list to update\n",
    "    regret=[]\n",
    "    # Range over length of T\n",
    "    for T in range(1,t_len+1):\n",
    "        # Iterate over arms (i know the best arm goes to 0 but i thought id generalise it anyway)\n",
    "        armval = []\n",
    "        for idx, arm in enumerate(arms):\n",
    "            # use the regret rule from notes, take mean of the indicator choices up to the round T\n",
    "            armval.append((arms[np.argmax(arms)]-arm)*(np.mean([culm_chosen[i]==idx for i in range(0,T)])))\n",
    "        # Add arm 1 and arm 2 values (i know this is pointless since the best arm is 0 so only counts for non optimal arm)\n",
    "        regret.append(armval[0]+armval[1])\n",
    "    return regret\n",
    "\n",
    "# To plot regrets\n",
    "def plot_reg(regrets,names,t_len):\n",
    "    for idx, regret in enumerate(regrets):\n",
    "        plt.plot(np.cumsum(regret), label='regret {}'.format(names[idx]))\n",
    "    plt.plot(np.linspace(1,t_len), np.log(np.linspace(1,t_len)), label='log', color='orange')\n",
    "    plt.legend()\n",
    "    plt.title(f'Regret T={t_len}')\n",
    "    plt.show()    \n"
   ]
  },
  {
   "cell_type": "code",
   "execution_count": 177,
   "id": "fd0b662b",
   "metadata": {},
   "outputs": [
    {
     "name": "stdout",
     "output_type": "stream",
     "text": [
      "Simulation 0:\n",
      "epsilon_greedy done\n",
      "thompson done\n",
      "Bayes-UCB done\n",
      "Simulation 1:\n",
      "epsilon_greedy done\n"
     ]
    },
    {
     "ename": "KeyboardInterrupt",
     "evalue": "",
     "output_type": "error",
     "traceback": [
      "\u001b[0;31m---------------------------------------------------------------------------\u001b[0m",
      "\u001b[0;31mKeyboardInterrupt\u001b[0m                         Traceback (most recent call last)",
      "\u001b[0;32m<ipython-input-177-ac3807b7711d>\u001b[0m in \u001b[0;36m<module>\u001b[0;34m\u001b[0m\n\u001b[1;32m     15\u001b[0m \u001b[0;34m\u001b[0m\u001b[0m\n\u001b[1;32m     16\u001b[0m     \u001b[0malpha_thomp\u001b[0m\u001b[0;34m,\u001b[0m\u001b[0mbeta_thomp\u001b[0m\u001b[0;34m,\u001b[0m\u001b[0mc_thomp\u001b[0m\u001b[0;34m=\u001b[0m\u001b[0mThompson\u001b[0m\u001b[0;34m(\u001b[0m\u001b[0mt_len\u001b[0m\u001b[0;34m,\u001b[0m\u001b[0;36m2\u001b[0m\u001b[0;34m,\u001b[0m\u001b[0marms\u001b[0m\u001b[0;34m,\u001b[0m \u001b[0mprior\u001b[0m\u001b[0;34m)\u001b[0m\u001b[0;34m\u001b[0m\u001b[0;34m\u001b[0m\u001b[0m\n\u001b[0;32m---> 17\u001b[0;31m     \u001b[0mregret_thomp\u001b[0m\u001b[0;34m=\u001b[0m\u001b[0mget_regret\u001b[0m\u001b[0;34m(\u001b[0m\u001b[0marms\u001b[0m\u001b[0;34m,\u001b[0m \u001b[0mc_thomp\u001b[0m\u001b[0;34m,\u001b[0m \u001b[0mt_len\u001b[0m\u001b[0;34m)\u001b[0m\u001b[0;34m\u001b[0m\u001b[0;34m\u001b[0m\u001b[0m\n\u001b[0m\u001b[1;32m     18\u001b[0m     \u001b[0mthompson_sims\u001b[0m\u001b[0;34m.\u001b[0m\u001b[0mappend\u001b[0m\u001b[0;34m(\u001b[0m\u001b[0mregret_thomp\u001b[0m\u001b[0;34m)\u001b[0m\u001b[0;34m\u001b[0m\u001b[0;34m\u001b[0m\u001b[0m\n\u001b[1;32m     19\u001b[0m     \u001b[0mprint\u001b[0m\u001b[0;34m(\u001b[0m\u001b[0;34m'thompson done'\u001b[0m\u001b[0;34m)\u001b[0m\u001b[0;34m\u001b[0m\u001b[0;34m\u001b[0m\u001b[0m\n",
      "\u001b[0;32m<ipython-input-97-936dcebca1a6>\u001b[0m in \u001b[0;36mget_regret\u001b[0;34m(arms, culm_chosen, t_len)\u001b[0m\n\u001b[1;32m      9\u001b[0m         \u001b[0;32mfor\u001b[0m \u001b[0midx\u001b[0m\u001b[0;34m,\u001b[0m \u001b[0marm\u001b[0m \u001b[0;32min\u001b[0m \u001b[0menumerate\u001b[0m\u001b[0;34m(\u001b[0m\u001b[0marms\u001b[0m\u001b[0;34m)\u001b[0m\u001b[0;34m:\u001b[0m\u001b[0;34m\u001b[0m\u001b[0;34m\u001b[0m\u001b[0m\n\u001b[1;32m     10\u001b[0m             \u001b[0;31m# use the regret rule from notes, take mean of the indicator choices up to the round T\u001b[0m\u001b[0;34m\u001b[0m\u001b[0;34m\u001b[0m\u001b[0;34m\u001b[0m\u001b[0m\n\u001b[0;32m---> 11\u001b[0;31m             \u001b[0marmval\u001b[0m\u001b[0;34m.\u001b[0m\u001b[0mappend\u001b[0m\u001b[0;34m(\u001b[0m\u001b[0;34m(\u001b[0m\u001b[0marms\u001b[0m\u001b[0;34m[\u001b[0m\u001b[0mnp\u001b[0m\u001b[0;34m.\u001b[0m\u001b[0margmax\u001b[0m\u001b[0;34m(\u001b[0m\u001b[0marms\u001b[0m\u001b[0;34m)\u001b[0m\u001b[0;34m]\u001b[0m\u001b[0;34m-\u001b[0m\u001b[0marm\u001b[0m\u001b[0;34m)\u001b[0m\u001b[0;34m*\u001b[0m\u001b[0;34m(\u001b[0m\u001b[0mnp\u001b[0m\u001b[0;34m.\u001b[0m\u001b[0mmean\u001b[0m\u001b[0;34m(\u001b[0m\u001b[0;34m[\u001b[0m\u001b[0mculm_chosen\u001b[0m\u001b[0;34m[\u001b[0m\u001b[0mi\u001b[0m\u001b[0;34m]\u001b[0m\u001b[0;34m==\u001b[0m\u001b[0midx\u001b[0m \u001b[0;32mfor\u001b[0m \u001b[0mi\u001b[0m \u001b[0;32min\u001b[0m \u001b[0mrange\u001b[0m\u001b[0;34m(\u001b[0m\u001b[0;36m0\u001b[0m\u001b[0;34m,\u001b[0m\u001b[0mT\u001b[0m\u001b[0;34m)\u001b[0m\u001b[0;34m]\u001b[0m\u001b[0;34m)\u001b[0m\u001b[0;34m)\u001b[0m\u001b[0;34m)\u001b[0m\u001b[0;34m\u001b[0m\u001b[0;34m\u001b[0m\u001b[0m\n\u001b[0m\u001b[1;32m     12\u001b[0m         \u001b[0;31m# Add arm 1 and arm 2 values (i know this is pointless since the best arm is 0 so only counts for non optimal arm)\u001b[0m\u001b[0;34m\u001b[0m\u001b[0;34m\u001b[0m\u001b[0;34m\u001b[0m\u001b[0m\n\u001b[1;32m     13\u001b[0m         \u001b[0mregret\u001b[0m\u001b[0;34m.\u001b[0m\u001b[0mappend\u001b[0m\u001b[0;34m(\u001b[0m\u001b[0marmval\u001b[0m\u001b[0;34m[\u001b[0m\u001b[0;36m0\u001b[0m\u001b[0;34m]\u001b[0m\u001b[0;34m+\u001b[0m\u001b[0marmval\u001b[0m\u001b[0;34m[\u001b[0m\u001b[0;36m1\u001b[0m\u001b[0;34m]\u001b[0m\u001b[0;34m)\u001b[0m\u001b[0;34m\u001b[0m\u001b[0;34m\u001b[0m\u001b[0m\n",
      "\u001b[0;32m<__array_function__ internals>\u001b[0m in \u001b[0;36mmean\u001b[0;34m(*args, **kwargs)\u001b[0m\n",
      "\u001b[0;32m/opt/anaconda3/lib/python3.8/site-packages/numpy/core/fromnumeric.py\u001b[0m in \u001b[0;36mmean\u001b[0;34m(a, axis, dtype, out, keepdims, where)\u001b[0m\n\u001b[1;32m   3417\u001b[0m             \u001b[0;32mreturn\u001b[0m \u001b[0mmean\u001b[0m\u001b[0;34m(\u001b[0m\u001b[0maxis\u001b[0m\u001b[0;34m=\u001b[0m\u001b[0maxis\u001b[0m\u001b[0;34m,\u001b[0m \u001b[0mdtype\u001b[0m\u001b[0;34m=\u001b[0m\u001b[0mdtype\u001b[0m\u001b[0;34m,\u001b[0m \u001b[0mout\u001b[0m\u001b[0;34m=\u001b[0m\u001b[0mout\u001b[0m\u001b[0;34m,\u001b[0m \u001b[0;34m**\u001b[0m\u001b[0mkwargs\u001b[0m\u001b[0;34m)\u001b[0m\u001b[0;34m\u001b[0m\u001b[0;34m\u001b[0m\u001b[0m\n\u001b[1;32m   3418\u001b[0m \u001b[0;34m\u001b[0m\u001b[0m\n\u001b[0;32m-> 3419\u001b[0;31m     return _methods._mean(a, axis=axis, dtype=dtype,\n\u001b[0m\u001b[1;32m   3420\u001b[0m                           out=out, **kwargs)\n\u001b[1;32m   3421\u001b[0m \u001b[0;34m\u001b[0m\u001b[0m\n",
      "\u001b[0;32m/opt/anaconda3/lib/python3.8/site-packages/numpy/core/_methods.py\u001b[0m in \u001b[0;36m_mean\u001b[0;34m(a, axis, dtype, out, keepdims, where)\u001b[0m\n\u001b[1;32m    176\u001b[0m             \u001b[0mis_float16_result\u001b[0m \u001b[0;34m=\u001b[0m \u001b[0;32mTrue\u001b[0m\u001b[0;34m\u001b[0m\u001b[0;34m\u001b[0m\u001b[0m\n\u001b[1;32m    177\u001b[0m \u001b[0;34m\u001b[0m\u001b[0m\n\u001b[0;32m--> 178\u001b[0;31m     \u001b[0mret\u001b[0m \u001b[0;34m=\u001b[0m \u001b[0mumr_sum\u001b[0m\u001b[0;34m(\u001b[0m\u001b[0marr\u001b[0m\u001b[0;34m,\u001b[0m \u001b[0maxis\u001b[0m\u001b[0;34m,\u001b[0m \u001b[0mdtype\u001b[0m\u001b[0;34m,\u001b[0m \u001b[0mout\u001b[0m\u001b[0;34m,\u001b[0m \u001b[0mkeepdims\u001b[0m\u001b[0;34m,\u001b[0m \u001b[0mwhere\u001b[0m\u001b[0;34m=\u001b[0m\u001b[0mwhere\u001b[0m\u001b[0;34m)\u001b[0m\u001b[0;34m\u001b[0m\u001b[0;34m\u001b[0m\u001b[0m\n\u001b[0m\u001b[1;32m    179\u001b[0m     \u001b[0;32mif\u001b[0m \u001b[0misinstance\u001b[0m\u001b[0;34m(\u001b[0m\u001b[0mret\u001b[0m\u001b[0;34m,\u001b[0m \u001b[0mmu\u001b[0m\u001b[0;34m.\u001b[0m\u001b[0mndarray\u001b[0m\u001b[0;34m)\u001b[0m\u001b[0;34m:\u001b[0m\u001b[0;34m\u001b[0m\u001b[0;34m\u001b[0m\u001b[0m\n\u001b[1;32m    180\u001b[0m         ret = um.true_divide(\n",
      "\u001b[0;31mKeyboardInterrupt\u001b[0m: "
     ]
    }
   ],
   "source": [
    "# Simulation study\n",
    "sims=100\n",
    "eps_greedy_sims = []\n",
    "thompson_sims = []\n",
    "bucb_sims = []\n",
    "t_len=10000\n",
    "arms = [0.5, 0.55]\n",
    "prior=[1,1]\n",
    "for s in range(sims):\n",
    "    print('Simulation {}:'.format(s))\n",
    "    alpha_eps,beta_eps,c_eps=eps_greedy(t_len,2,arms, prior)\n",
    "    regret_eps=get_regret(arms, c_eps, t_len)\n",
    "    eps_greedy_sims.append(regret_eps) # There definitely exists a more efficient way to do this\n",
    "    print('epsilon_greedy done')\n",
    "    \n",
    "    alpha_thomp,beta_thomp,c_thomp=Thompson(t_len,2,arms, prior)\n",
    "    regret_thomp=get_regret(arms, c_thomp, t_len)\n",
    "    thompson_sims.append(regret_thomp) \n",
    "    print('thompson done')\n",
    "    \n",
    "    alpha_bucb, beta_bucb, c_bucb = BayesUCB(t_len,2,arms,prior)\n",
    "    regret_bucb=get_regret(arms, c_bucb, t_len)\n",
    "    bucb_sims.append(regret_bucb)\n",
    "    print('Bayes-UCB done')"
   ]
  },
  {
   "cell_type": "code",
   "execution_count": 176,
   "id": "de612000",
   "metadata": {},
   "outputs": [
    {
     "data": {
      "image/png": "[encoded data removed]",
      "text/plain": [
       "<Figure size 432x288 with 1 Axes>"
      ]
     },
     "metadata": {},
     "output_type": "display_data"
    }
   ],
   "source": [
    "eps_greedy_avg=np.mean(eps_greedy_sims,axis=0)\n",
    "thompson_avg=np.mean(thompson_sims,axis=0)\n",
    "bucb_avg=np.mean(bucb_sims,axis=0)\n",
    "plot_reg([eps_greedy_avg,thompson_avg,bucb_avg], ['epsilon-greedy', 'Thompson', 'Bayes UCB'],t_len)"
   ]
  },
  {
   "cell_type": "code",
   "execution_count": null,
   "id": "02793480",
   "metadata": {},
   "outputs": [],
   "source": []
  }
 ],
 "metadata": {
  "kernelspec": {
   "display_name": "Python 3",
   "language": "python",
   "name": "python3"
  },
  "language_info": {
   "codemirror_mode": {
    "name": "ipython",
    "version": 3
   },
   "file_extension": ".py",
   "mimetype": "text/x-python",
   "name": "python",
   "nbconvert_exporter": "python",
   "pygments_lexer": "ipython3",
   "version": "3.8.8"
  }
 },
 "nbformat": 4,
 "nbformat_minor": 5
}
